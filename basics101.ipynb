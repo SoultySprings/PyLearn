{
 "cells": [
  {
   "cell_type": "code",
   "execution_count": 1,
   "id": "bf75ac66-897e-4bf2-9dc6-8f90f8853b23",
   "metadata": {},
   "outputs": [
    {
     "name": "stdout",
     "output_type": "stream",
     "text": [
      "hello, world\n"
     ]
    }
   ],
   "source": [
    "print(\"hello, world\")"
   ]
  },
  {
   "cell_type": "code",
   "execution_count": 3,
   "id": "ce8ba6ae-b468-473e-816e-a2c076510e2a",
   "metadata": {},
   "outputs": [
    {
     "name": "stdout",
     "output_type": "stream",
     "text": [
      "helloworld\n"
     ]
    }
   ],
   "source": [
    "print(\"hello\"+\"world\")"
   ]
  },
  {
   "cell_type": "code",
   "execution_count": 13,
   "id": "77b10d78-a8f0-400c-a202-05df75d1d5d7",
   "metadata": {},
   "outputs": [
    {
     "name": "stdout",
     "output_type": "stream",
     "text": [
      "hello world\n"
     ]
    }
   ],
   "source": [
    "print(\"hello\",\"world\")"
   ]
  },
  {
   "cell_type": "code",
   "execution_count": 21,
   "id": "9047188a-8459-4de2-a401-10a33af07333",
   "metadata": {},
   "outputs": [
    {
     "name": "stdout",
     "output_type": "stream",
     "text": [
      "hello world -> im learning -> coding to mastery."
     ]
    }
   ],
   "source": [
    "#The generic type for java is System.out.println() \n",
    "#but for Py its print(\"data\", sep=\"type of sperator\", end=\"type of end\")\n",
    "print(\"hello\",\"world\", sep=\" \", end=\" -> \")\n",
    "print(\"im\",\"learning\", sep=\" \", end=\" -> \")\n",
    "print(\"coding\",\"to\",\"mastery\", sep=\" \", end=\".\")"
   ]
  },
  {
   "cell_type": "code",
   "execution_count": 27,
   "id": "92e006d3-4eaa-49c7-a4e3-db3a4d007b56",
   "metadata": {},
   "outputs": [
    {
     "name": "stdin",
     "output_type": "stream",
     "text": [
      " this\n"
     ]
    }
   ],
   "source": [
    "#for taking input from the user, its a = input(), note the default datatype is String always\n",
    "str = input();"
   ]
  },
  {
   "cell_type": "code",
   "execution_count": 29,
   "id": "097b97e0-2d82-4fb2-a671-f2c06644fe4e",
   "metadata": {},
   "outputs": [
    {
     "data": {
      "text/plain": [
       "'this'"
      ]
     },
     "execution_count": 29,
     "metadata": {},
     "output_type": "execute_result"
    }
   ],
   "source": [
    "str"
   ]
  },
  {
   "cell_type": "code",
   "execution_count": null,
   "id": "b3d59d4a-0e49-4ecf-9b13-8e22d8102ddf",
   "metadata": {},
   "outputs": [],
   "source": []
  }
 ],
 "metadata": {
  "kernelspec": {
   "display_name": "Python 3 (ipykernel)",
   "language": "python",
   "name": "python3"
  },
  "language_info": {
   "codemirror_mode": {
    "name": "ipython",
    "version": 3
   },
   "file_extension": ".py",
   "mimetype": "text/x-python",
   "name": "python",
   "nbconvert_exporter": "python",
   "pygments_lexer": "ipython3",
   "version": "3.12.4"
  }
 },
 "nbformat": 4,
 "nbformat_minor": 5
}
