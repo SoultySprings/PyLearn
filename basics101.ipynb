{
 "cells": [
  {
   "cell_type": "code",
   "execution_count": 1,
   "id": "bf75ac66-897e-4bf2-9dc6-8f90f8853b23",
   "metadata": {},
   "outputs": [
    {
     "name": "stdout",
     "output_type": "stream",
     "text": [
      "hello, world\n"
     ]
    }
   ],
   "source": [
    "print(\"hello, world\")"
   ]
  },
  {
   "cell_type": "code",
   "execution_count": 3,
   "id": "ce8ba6ae-b468-473e-816e-a2c076510e2a",
   "metadata": {},
   "outputs": [
    {
     "name": "stdout",
     "output_type": "stream",
     "text": [
      "helloworld\n"
     ]
    }
   ],
   "source": [
    "print(\"hello\"+\"world\")"
   ]
  },
  {
   "cell_type": "code",
   "execution_count": 13,
   "id": "77b10d78-a8f0-400c-a202-05df75d1d5d7",
   "metadata": {},
   "outputs": [
    {
     "name": "stdout",
     "output_type": "stream",
     "text": [
      "hello world\n"
     ]
    }
   ],
   "source": [
    "print(\"hello\",\"world\")"
   ]
  },
  {
   "cell_type": "code",
   "execution_count": 21,
   "id": "9047188a-8459-4de2-a401-10a33af07333",
   "metadata": {},
   "outputs": [
    {
     "name": "stdout",
     "output_type": "stream",
     "text": [
      "hello world -> im learning -> coding to mastery."
     ]
    }
   ],
   "source": [
    "#The generic type for java is System.out.println() \n",
    "#but for Py its print(\"data\", sep=\"type of sperator\", end=\"type of end\")\n",
    "print(\"hello\",\"world\", sep=\" \", end=\" -> \")\n",
    "print(\"im\",\"learning\", sep=\" \", end=\" -> \")\n",
    "print(\"coding\",\"to\",\"mastery\", sep=\" \", end=\".\")"
   ]
  },
  {
   "cell_type": "code",
   "execution_count": 49,
   "id": "92e006d3-4eaa-49c7-a4e3-db3a4d007b56",
   "metadata": {},
   "outputs": [
    {
     "name": "stdin",
     "output_type": "stream",
     "text": [
      " History\n"
     ]
    }
   ],
   "source": [
    "#for taking input from the user, its a = input(), note the default datatype is String always\n",
    "string = input();"
   ]
  },
  {
   "cell_type": "code",
   "execution_count": 51,
   "id": "097b97e0-2d82-4fb2-a671-f2c06644fe4e",
   "metadata": {},
   "outputs": [
    {
     "data": {
      "text/plain": [
       "'History'"
      ]
     },
     "execution_count": 51,
     "metadata": {},
     "output_type": "execute_result"
    }
   ],
   "source": [
    "string\n",
    "\n"
   ]
  },
  {
   "cell_type": "code",
   "execution_count": 55,
   "id": "b3d59d4a-0e49-4ecf-9b13-8e22d8102ddf",
   "metadata": {},
   "outputs": [
    {
     "data": {
      "text/plain": [
       "2264430836592"
      ]
     },
     "execution_count": 55,
     "metadata": {},
     "output_type": "execute_result"
    }
   ],
   "source": [
    "#id helps in telling the id where the data is stored in the memory\n",
    "id(str)"
   ]
  },
  {
   "cell_type": "code",
   "execution_count": 45,
   "id": "dcb81abd-c061-4181-98fd-2929f08b4305",
   "metadata": {},
   "outputs": [],
   "source": [
    "#type function is used in order to tell the type of data that is being stored\n",
    "type(str)\n",
    "a = 254\n",
    "b = 25.4\n",
    "c = True\n",
    "#type(a)\n",
    "#type(b)\n",
    "#type(c)"
   ]
  },
  {
   "cell_type": "code",
   "execution_count": 57,
   "id": "819c7464-3aa6-49ba-bcdb-a25059ae29d6",
   "metadata": {},
   "outputs": [],
   "source": [
    "#memory is stored as - variables in a stack, whereas data in heap\n",
    "#and the variables refer the value from the heap in order like how pointers are used in Java"
   ]
  },
  {
   "cell_type": "code",
   "execution_count": 62,
   "id": "fb12cd5f-b61c-4326-ba65-994f6db26f72",
   "metadata": {},
   "outputs": [],
   "source": [
    "#Arithematic Operators are +,-,*,/,%,**,//"
   ]
  },
  {
   "cell_type": "code",
   "execution_count": 66,
   "id": "d8f6345c-6baf-471b-bc23-f6b7d11e0526",
   "metadata": {},
   "outputs": [
    {
     "data": {
      "text/plain": [
       "'HistoryHistoryHistoryHistoryHistory'"
      ]
     },
     "execution_count": 66,
     "metadata": {},
     "output_type": "execute_result"
    }
   ],
   "source": [
    "#Strings can be made to concate more than 2 times by multiplying them\n",
    "string*5"
   ]
  },
  {
   "cell_type": "code",
   "execution_count": 72,
   "id": "3820992c-4ae7-460c-b63a-ee4feb08dbc1",
   "metadata": {},
   "outputs": [
    {
     "data": {
      "text/plain": [
       "-12"
      ]
     },
     "execution_count": 72,
     "metadata": {},
     "output_type": "execute_result"
    }
   ],
   "source": [
    "#// floor division works so that it returns the left-most integer on the nunmber line\n",
    "#let that be a positive or negative division\n",
    "d = 22\n",
    "e = -22\n",
    "a//e"
   ]
  },
  {
   "cell_type": "code",
   "execution_count": 74,
   "id": "e262f7e2-ab2d-4b88-b709-76a85b5e8477",
   "metadata": {},
   "outputs": [],
   "source": [
    "#Comparison Operators are of the following type ==,!=, < and >, <= and >="
   ]
  },
  {
   "cell_type": "code",
   "execution_count": 76,
   "id": "aabbd19a-89c4-413d-b1be-627c48d63fbd",
   "metadata": {},
   "outputs": [],
   "source": [
    "#Assignment Operators are of the following type =,-=,+=,*=,/="
   ]
  },
  {
   "cell_type": "code",
   "execution_count": 78,
   "id": "6eb8816c-4d3a-4234-b527-da5b2734aeb5",
   "metadata": {},
   "outputs": [],
   "source": [
    "#Logical operators are of the following types and, or, not"
   ]
  },
  {
   "cell_type": "code",
   "execution_count": 82,
   "id": "0ff53090-98fe-4e9a-8cc1-c1952d942ec9",
   "metadata": {},
   "outputs": [],
   "source": [
    "#Special operators are of the following types in operator and is operator\n",
    "#in operator tells if you if the object is a part of that object or not\n",
    "str2 = 'Meenakshi'"
   ]
  },
  {
   "cell_type": "code",
   "execution_count": 84,
   "id": "64f61392-f1a1-41a9-ab90-33779f8e47d0",
   "metadata": {},
   "outputs": [
    {
     "data": {
      "text/plain": [
       "'Meenakshi'"
      ]
     },
     "execution_count": 84,
     "metadata": {},
     "output_type": "execute_result"
    }
   ],
   "source": [
    "str2"
   ]
  },
  {
   "cell_type": "code",
   "execution_count": 86,
   "id": "ab4698b4-1fea-41e5-82de-7c39e4d64c0b",
   "metadata": {},
   "outputs": [
    {
     "data": {
      "text/plain": [
       "True"
      ]
     },
     "execution_count": 86,
     "metadata": {},
     "output_type": "execute_result"
    }
   ],
   "source": [
    "'M' in str2"
   ]
  },
  {
   "cell_type": "code",
   "execution_count": 88,
   "id": "0dcf1bfc-9eb6-43b1-aeac-7ff070a51e8f",
   "metadata": {},
   "outputs": [
    {
     "data": {
      "text/plain": [
       "True"
      ]
     },
     "execution_count": 88,
     "metadata": {},
     "output_type": "execute_result"
    }
   ],
   "source": [
    "'Meena' in str2"
   ]
  },
  {
   "cell_type": "code",
   "execution_count": 90,
   "id": "7a2ba76e-9aa1-4b29-a935-22d16afc9b4b",
   "metadata": {},
   "outputs": [
    {
     "data": {
      "text/plain": [
       "False"
      ]
     },
     "execution_count": 90,
     "metadata": {},
     "output_type": "execute_result"
    }
   ],
   "source": [
    "'Mena' in str2"
   ]
  },
  {
   "cell_type": "code",
   "execution_count": null,
   "id": "b40d1b10-8afc-45dd-b468-39e96a34f23d",
   "metadata": {},
   "outputs": [],
   "source": [
    "#is operator is used to determine whether two objects are present at the same location or not\n",
    "#in basic sense if(id(a)==id(b))?True:False"
   ]
  }
 ],
 "metadata": {
  "kernelspec": {
   "display_name": "Python 3 (ipykernel)",
   "language": "python",
   "name": "python3"
  },
  "language_info": {
   "codemirror_mode": {
    "name": "ipython",
    "version": 3
   },
   "file_extension": ".py",
   "mimetype": "text/x-python",
   "name": "python",
   "nbconvert_exporter": "python",
   "pygments_lexer": "ipython3",
   "version": "3.12.4"
  }
 },
 "nbformat": 4,
 "nbformat_minor": 5
}
