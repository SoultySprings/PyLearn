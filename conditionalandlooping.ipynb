{
 "cells": [
  {
   "cell_type": "code",
   "execution_count": 1,
   "id": "b2c2743a-9ed2-4b1e-a8aa-2c785dc6ae6c",
   "metadata": {},
   "outputs": [],
   "source": [
    "#06/09/24"
   ]
  },
  {
   "cell_type": "code",
   "execution_count": 20,
   "id": "8c821b25-a487-499f-9f02-8a196f07d289",
   "metadata": {},
   "outputs": [
    {
     "name": "stdin",
     "output_type": "stream",
     "text": [
      " 21\n"
     ]
    },
    {
     "data": {
      "text/plain": [
       "'21'"
      ]
     },
     "execution_count": 20,
     "metadata": {},
     "output_type": "execute_result"
    }
   ],
   "source": [
    "age = input()\n",
    "age"
   ]
  },
  {
   "cell_type": "code",
   "execution_count": 14,
   "id": "c70c3396-90ba-4400-8771-9a462190429d",
   "metadata": {},
   "outputs": [
    {
     "data": {
      "text/plain": [
       "21"
      ]
     },
     "execution_count": 14,
     "metadata": {},
     "output_type": "execute_result"
    }
   ],
   "source": [
    "age2 = int(age)\n",
    "age2"
   ]
  },
  {
   "cell_type": "code",
   "execution_count": 22,
   "id": "b44ad22a-f5f6-47a3-9be6-4fb1d65edc66",
   "metadata": {},
   "outputs": [
    {
     "name": "stdout",
     "output_type": "stream",
     "text": [
      "You can drive \n"
     ]
    }
   ],
   "source": [
    "if age2 > 18:\n",
    "    print('You can drive ')\n",
    "else:\n",
    "    print('You cant drive')"
   ]
  },
  {
   "cell_type": "code",
   "execution_count": null,
   "id": "70601b0a-b6ec-4c89-81d8-de31269cbdb5",
   "metadata": {},
   "outputs": [],
   "source": [
    "#The syntax of if is give as :\n",
    "#'''\n",
    "#if variable > condition:\n",
    "#    print('Output')\n",
    "#else:\n",
    "#    print('Output')\n",
    "#'''\n",
    "#and the syntax of if elif is given as:\n",
    "#'''\n",
    "#if variable > condition:\n",
    "#    print('Output')\n",
    "#elf variable < condition:\n",
    "#    print('Output')\n",
    "#else:\n",
    "#    print('Output')\n",
    "#'''"
   ]
  },
  {
   "cell_type": "code",
   "execution_count": 56,
   "id": "a731ec5d-dbf5-49a7-9221-346d10a8dbd1",
   "metadata": {},
   "outputs": [],
   "source": [
    "age3 = 1"
   ]
  },
  {
   "cell_type": "code",
   "execution_count": 58,
   "id": "487592c3-91d1-4145-b3e1-748af455cf4a",
   "metadata": {},
   "outputs": [
    {
     "name": "stdout",
     "output_type": "stream",
     "text": [
      "You are 1 years old!\n"
     ]
    }
   ],
   "source": [
    "match age3:\n",
    "    case 0:\n",
    "        print('You are ' + str(age3) + ' years old!')\n",
    "    case 1:\n",
    "        print('You are ' + str(age3) + ' years old!')\n",
    "    case 2:\n",
    "        print('You are ' + str(age3) + ' years old!')\n",
    "    case 3:\n",
    "        print('You are ' + str(age3) + ' years old!')\n",
    "    case 4:\n",
    "        print('You are ' + str(age3) + ' years old!')\n",
    "    case 5:\n",
    "        print('You are ' + str(age3) + ' years old!')\n",
    "    case _:\n",
    "        print('No answer!')"
   ]
  },
  {
   "cell_type": "code",
   "execution_count": 7,
   "id": "e735c7a0-3aae-44be-8e53-70c42dbf239d",
   "metadata": {},
   "outputs": [],
   "source": [
    "#'''\n",
    "#Python doesn't have switch case like how Java has\n",
    "#instead it has something called match case from 3.10\n",
    "#and is written as \n",
    "\n",
    "#match variable:\n",
    "#    case condition1:\n",
    "#        action1\n",
    "#    case condition2:\n",
    "#        action2\n",
    "#    case condition3:\n",
    "#        action3\n",
    "#    case _: #This is supposed to be the default case\n",
    "#        action4 \n",
    "#    \n",
    "#'''"
   ]
  },
  {
   "cell_type": "code",
   "execution_count": 9,
   "id": "cd290867-7ef1-4164-b592-8cab2ee4f97a",
   "metadata": {},
   "outputs": [],
   "source": [
    "#looping statements in python are for and while loops"
   ]
  }
 ],
 "metadata": {
  "kernelspec": {
   "display_name": "Python 3 (ipykernel)",
   "language": "python",
   "name": "python3"
  },
  "language_info": {
   "codemirror_mode": {
    "name": "ipython",
    "version": 3
   },
   "file_extension": ".py",
   "mimetype": "text/x-python",
   "name": "python",
   "nbconvert_exporter": "python",
   "pygments_lexer": "ipython3",
   "version": "3.12.4"
  }
 },
 "nbformat": 4,
 "nbformat_minor": 5
}
